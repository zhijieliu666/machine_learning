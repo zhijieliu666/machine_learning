{
 "cells": [
  {
   "cell_type": "code",
   "execution_count": 1,
   "metadata": {},
   "outputs": [
    {
     "name": "stderr",
     "output_type": "stream",
     "text": [
      "WARNING:root:[MemorizedFunc(func=<function get_data at 0x0000024C97131400>, cachedir='./mycache\\\\joblib')]: Clearing cache ./mycache\\joblib\\__main__-C%3A-Users-555-__ipython-input__\\get_data\n"
     ]
    },
    {
     "name": "stdout",
     "output_type": "stream",
     "text": [
      "________________________________________________________________________________\n",
      "[Memory] Calling __main__-C%3A-Users-555-__ipython-input__.get_data...\n",
      "get_data()\n",
      "_________________________________________________________get_data - 0.0s, 0.0min\n"
     ]
    },
    {
     "data": {
      "image/png": "[encoded data removed]",
      "text/plain": [
       "<matplotlib.figure.Figure at 0x24cb5697470>"
      ]
     },
     "metadata": {},
     "output_type": "display_data"
    }
   ],
   "source": [
    "from sklearn.externals.joblib import Memory\n",
    "from sklearn.datasets import load_svmlight_file\n",
    "from sklearn.model_selection import train_test_split\n",
    "from numpy import *\n",
    "from sklearn.linear_model import LinearRegression\n",
    "from sklearn import metrics  \n",
    "import numpy as np\n",
    "import matplotlib.pyplot as plt\n",
    "mem = Memory(\"./mycache\")\n",
    "\n",
    "@mem.cache\n",
    "def get_data():\n",
    "    data = load_svmlight_file(\"C:\\\\Users\\\\555\\\\Desktop\\\\11.txt\")\n",
    "    return data[0], data[1]\n",
    "X, y = get_data()\n",
    "X_train, X_test, y_train, y_test = train_test_split( X, y, test_size=0.2, random_state=42)\n",
    "#print(X_train)\n",
    "#print(X_test)\n",
    "#print(y_train)\n",
    "#print(y_test)\n",
    "X_trainb=X_train.todense()\n",
    "X_testb=X_test.todense()\n",
    "#w=np.array([0,0,0,0,0,0,0,0,0,0,0,0,0,0])\n",
    "\n",
    "\n",
    "def computeCost(w,b,X_trainb,y_train):\n",
    "    \n",
    "    totalerror=0\n",
    "    t=0\n",
    "    sumerror=0\n",
    "    \n",
    "    for i in range(0,len(w)):\n",
    "        t+=w[0,i]**2\n",
    "    for i in range(0,len(X_trainb)):\n",
    "        x=X_trainb[i,:]\n",
    "        y=y_train[i]\n",
    "        \n",
    "        \n",
    "        totalerror=1-y_train[i]*((X_trainb[i,:]*np.transpose(w))[0,0]+b)\n",
    "        \n",
    "        if totalerror>=0:\n",
    "            sumerror+=totalerror\n",
    "        \n",
    "    totalerror=t+0.9*sumerror\n",
    "    \n",
    "    #print(totalerror)\n",
    "    #totalerror=np.multiply(w,x)+b-y\n",
    "    return totalerror\n",
    "def optimizer(X_trainb,y_train,w_start,b_start,learning_rate,num_iter):\n",
    "    w=w_start\n",
    "    b=b_start\n",
    "    y=[j for j in range(100)]\n",
    "    yy=[j for j in range(100)]\n",
    "    for i in range(num_iter):\n",
    "        w,b=compute_gradient(w,b,X_trainb,y_train,learning_rate)\n",
    "        y[i]=computeCost(w,b,X_trainb,y_train)/len(X_trainb)\n",
    "        yy[i]=computeCost(w,b,X_testb,y_test)/len(X_testb) \n",
    "    \n",
    "    return y,yy\n",
    "    \n",
    "\n",
    "def compute_gradient(w_current,b_current,X_trainb,y_train ,learning_rate):\n",
    "    \n",
    "    w_grad=0\n",
    "    b_grad=0\n",
    "    gw=0\n",
    "    gb=0\n",
    "    g=0\n",
    "    \n",
    "    for i in range(0,len(X_trainb)):\n",
    "        x=X_trainb[i]\n",
    "        y=y_train[i]\n",
    "        w_current1=np.mat(w_current)\n",
    "        g=1-y*((w_current1*x.T)[0,0]+b_current)\n",
    "        #print(g)\n",
    "    #for i in range(0,len(X_trainb)):\n",
    "        x=X_trainb[i,:]\n",
    "        y=y_train[i]    \n",
    "        if(g>=0):\n",
    "            gw+=-y*x\n",
    "            gb+=-y\n",
    "            w_grad=w_current1+0.1*gw\n",
    "            b_grad=0.1*gb\n",
    "\n",
    "            \n",
    "    new_w=w_current1-(learning_rate*w_grad)\n",
    "    new_b=b_current-(learning_rate*b_grad)\n",
    "    return new_w,new_b\n",
    "    \n",
    "\n",
    "def linear_regression():\n",
    "    learning_rate=0.0025\n",
    "    w=np.array([0,0,0,0,0,0,0,0,0,0,0,0,0,0])\n",
    "    b=0\n",
    "    num_iter=100\n",
    "    L_train,L_validation= optimizer(X_trainb,y_train,w,b,learning_rate,num_iter)\n",
    "    \n",
    "    #print(L_validation)\n",
    "    #print(L_train)\n",
    "    xx=[i for i in range(100)]\n",
    "    plt.plot(xx,L_train)#蓝色线是L_train\n",
    "    plt.plot(xx,L_validation)#橙色线是L_validation\n",
    "    plt.show()\n",
    "    \n",
    "\n",
    "if __name__ =='__main__':\n",
    "\n",
    "    linear_regression()\n"
   ]
  },
  {
   "cell_type": "code",
   "execution_count": null,
   "metadata": {},
   "outputs": [],
   "source": []
  },
  {
   "cell_type": "code",
   "execution_count": null,
   "metadata": {},
   "outputs": [],
   "source": []
  }
 ],
 "metadata": {
  "kernelspec": {
   "display_name": "Python 3",
   "language": "python",
   "name": "python3"
  },
  "language_info": {
   "codemirror_mode": {
    "name": "ipython",
    "version": 3
   },
   "file_extension": ".py",
   "mimetype": "text/x-python",
   "name": "python",
   "nbconvert_exporter": "python",
   "pygments_lexer": "ipython3",
   "version": "3.5.3"
  }
 },
 "nbformat": 4,
 "nbformat_minor": 2
}
