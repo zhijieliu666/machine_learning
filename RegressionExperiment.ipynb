{
 "cells": [
  {
   "cell_type": "code",
   "execution_count": 14,
   "metadata": {},
   "outputs": [
    {
     "name": "stderr",
     "output_type": "stream",
     "text": [
      "WARNING:root:[MemorizedFunc(func=<function get_data at 0x000002D712BEF510>, cachedir='./mycache\\\\joblib')]: Clearing cache ./mycache\\joblib\\__main__-C%3A-Users-555-__ipython-input__\\get_data\n"
     ]
    },
    {
     "name": "stdout",
     "output_type": "stream",
     "text": [
      "________________________________________________________________________________\n",
      "[Memory] Calling __main__-C%3A-Users-555-__ipython-input__.get_data...\n",
      "get_data()\n",
      "_________________________________________________________get_data - 0.0s, 0.0min\n"
     ]
    },
    {
     "data": {
      "image/png": "[encoded data removed]",
      "text/plain": [
       "<matplotlib.figure.Figure at 0x2d712bf2da0>"
      ]
     },
     "metadata": {},
     "output_type": "display_data"
    }
   ],
   "source": [
    "from sklearn.externals.joblib import Memory\n",
    "from sklearn.datasets import load_svmlight_file\n",
    "from sklearn.model_selection import train_test_split\n",
    "from numpy import *\n",
    "from sklearn.linear_model import LinearRegression\n",
    "from sklearn import metrics  \n",
    "import numpy as np\n",
    "import matplotlib.pyplot as plt\n",
    "mem = Memory(\"./mycache\")\n",
    "\n",
    "@mem.cache\n",
    "def get_data():\n",
    "    data = load_svmlight_file(\"C:\\\\Users\\\\555\\\\Desktop\\\\22.txt\")\n",
    "    return data[0], data[1]\n",
    "\n",
    "X, y = get_data()\n",
    "X_train, X_test, y_train, y_test = train_test_split( X, y, test_size=0.2, random_state=1)\n",
    "#print(X_train)\n",
    "#print(X_test)\n",
    "#print(y_train)\n",
    "#print(y_test)\n",
    "X_trainb=X_train.todense()\n",
    "X_testb=X_test.todense()\n",
    "w=np.array([0,0,0,0,0,0,0,0,0,0,0,0,0,0])\n",
    "\n",
    "y=[1]*404\n",
    "X_trainb=np.column_stack((X_trainb,y))\n",
    "x=[1]*102\n",
    "X_testb=np.column_stack((X_testb,x))\n",
    "\n",
    "def computeCost(w,X_trainb,y_train):\n",
    "    \n",
    "    totalerror=0\n",
    "    \n",
    "    for i in range(0,len(X_trainb)):\n",
    "        x=X_trainb[i,:]\n",
    "        y=y_train[i]\n",
    "        totalerror+=1/2*(y_train[i]-X_trainb[i,:]*np.transpose(w))**2\n",
    "   \n",
    "    #print(totalerror)\n",
    "    return totalerror\n",
    "def optimizer(X_trainb,y_train,w_start,learning_rate,num_iter):\n",
    "    w=w_start\n",
    "    y=[j for j in range(100)]\n",
    "    yy=[j for j in range(100)]\n",
    "    for i in range(num_iter):\n",
    "        w=compute_gradient(w,X_trainb,y_train,learning_rate)\n",
    "        y[i]=computeCost(w,X_trainb,y_train)\n",
    "        yy[i]=computeCost(w,X_testb,y_test)\n",
    "        y[i]=y[i][0,0]/len(X_trainb)\n",
    "        yy[i]=yy[i][0,0]/len(X_testb)\n",
    "        \n",
    "    return y,yy\n",
    "    \n",
    "\n",
    "def compute_gradient(w_current,X_trainb,y_train ,learning_rate):\n",
    "    \n",
    "    w_grad=0\n",
    "    n=float(len(X_trainb))\n",
    "    for i in range(0,len(X_trainb)):\n",
    "        x=X_trainb[i,:]\n",
    "        y=y_train[i]\n",
    "        w_grad+=-y*x+(x*x.transpose())*w_current\n",
    "    new_w=w_current-(learning_rate*w_grad)\n",
    "    return new_w\n",
    "    \n",
    "\n",
    "def linear_regression():\n",
    "    learning_rate=0.00005\n",
    "    w=[0,0,0,0,0,0,0,0,0,0,0,0,0,0]\n",
    "    b=0\n",
    "    num_iter=100\n",
    "    L_train,L_validation = optimizer(X_trainb,y_train,w,learning_rate,num_iter)\n",
    "   \n",
    "      \n",
    "   # plt.plot(range(len(y_pred)),y_pred,label=\"predict\")  \n",
    "    #plt.plot(range(len(y_pred)),y_test,label=\"test\")  \n",
    "    #plt.show() \n",
    "    #X_pred=X_trainb*np.transpose(w)\n",
    "    #plt.plot(range(len(X_pred)),X_pred,label=\"predict\")  \n",
    "    #plt.plot(range(len(X_pred)),y_train,label=\"test\")  \n",
    "    #plt.show() \n",
    "    \n",
    "    #print(L_train)\n",
    "    #print(L_validation)\n",
    "    xx=[i for i in range(100)]\n",
    "    plt.plot(xx,L_train)   #蓝色线是L_train\n",
    "    plt.plot(xx,L_validation) #橙色线是L_validation\n",
    "    plt.show()\n",
    "    \n",
    "    \n",
    "   \n",
    "\n",
    "if __name__ =='__main__':\n",
    "\n",
    "    linear_regression()"
   ]
  },
  {
   "cell_type": "code",
   "execution_count": null,
   "metadata": {},
   "outputs": [],
   "source": []
  },
  {
   "cell_type": "code",
   "execution_count": null,
   "metadata": {},
   "outputs": [],
   "source": []
  },
  {
   "cell_type": "code",
   "execution_count": null,
   "metadata": {},
   "outputs": [],
   "source": []
  }
 ],
 "metadata": {
  "kernelspec": {
   "display_name": "Python 3",
   "language": "python",
   "name": "python3"
  },
  "language_info": {
   "codemirror_mode": {
    "name": "ipython",
    "version": 3
   },
   "file_extension": ".py",
   "mimetype": "text/x-python",
   "name": "python",
   "nbconvert_exporter": "python",
   "pygments_lexer": "ipython3",
   "version": "3.5.3"
  }
 },
 "nbformat": 4,
 "nbformat_minor": 2
}
